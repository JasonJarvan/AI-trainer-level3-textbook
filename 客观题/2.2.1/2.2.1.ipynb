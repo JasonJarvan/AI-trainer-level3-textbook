{
 "cells": [
  {
   "cell_type": "code",
   "id": "5f581ee5",
   "metadata": {},
   "outputs": [],
   "source": "import pandas as pd\nfrom sklearn.model_selection import train_test_split\nfrom sklearn.linear_model import LogisticRegression\nimport pickle\nfrom sklearn.metrics import classification_report\nfrom imblearn.over_sampling import SMOTE\n\n# 加载数据\n# data = __________\ndata = pd.read_csv('finance数据集.csv')\n\n# 显示前五行的数据\n# print(__________)\nprint(data.head())\n\n# 选择自变量和因变量\nX = data.drop(['SeriousDlqin2yrs', 'Unnamed: 0'], axis=1)\ny = data['SeriousDlqin2yrs']\n\n# 分割训练集和测试集（测试集20%）\n# X_train, X_test, y_train, y_test = __________(__________, random_state=42)\nX_train, X_test, y_train, y_test = train_test_split(X, y, test_size=0.2, random_state=42)\n\n# 训练Logistic回归模型（最大迭代次数为1000次）\n# model = __________\nmodel = LogisticRegression(max_iter=1000)\n#训练 Logistic 回归模型\n# __________\nmodel.fit(X_train, y_train)\n\n# 保存模型\nwith open('2.2.1_model.pkl', 'wb') as file:\n    # pickle.__________\n    pickle.dump(model, file)\n\n# 预测并保存结果\n# y_pred = __________\ny_pred = model.predict(X_test)\npd.DataFrame(y_pred, columns=['预测结果']).to_csv('2.2.1_results.txt', index=False)\n\n# 生成测试报告\nreport = classification_report(y_test, y_pred, zero_division=1)\nwith open('2.2.1_report.txt', 'w') as file:\n    file.write(report)\n\n# 分析测试结果\n# accuracy = __________\naccuracy = model.score(X_test, y_test)\nprint(f\"模型准确率: {accuracy:.2f}\")\n\n# 处理数据不平衡\nsmote = SMOTE(random_state=42)\n# X_resampled, y_resampled = __________\nX_resampled, y_resampled = smote.fit_resample(X_train, y_train)\n\n# 重新训练模型\n# __________\nmodel.fit(X_resampled, y_resampled)\n# 重新预测\n# y_pred_resampled = __________\ny_pred_resampled = model.predict(X_test)\n\n# 保存新结果\npd.DataFrame(y_pred_resampled, columns=['预测结果']).to_csv('2.2.1_results_xg.txt', index=False)\n\n# 生成新的测试报告\nreport_resampled = classification_report(y_test, y_pred_resampled, zero_division=1)\nwith open('2.2.1_report_xg.txt', 'w') as file:\n    file.write(report_resampled)\n\n# 分析新的测试结果\n# accuracy_resampled = __________\naccuracy_resampled = model.score(X_test, y_test)\nprint(f\"重新采样后的模型准确率: {accuracy_resampled:.2f}\")"
  },
  {
   "cell_type": "code",
   "execution_count": null,
   "id": "83632a0d",
   "metadata": {},
   "outputs": [],
   "source": []
  }
 ],
 "metadata": {
  "kernelspec": {
   "display_name": "Python 3 (ipykernel)",
   "language": "python",
   "name": "python3"
  },
  "language_info": {
   "codemirror_mode": {
    "name": "ipython",
    "version": 3
   },
   "file_extension": ".py",
   "mimetype": "text/x-python",
   "name": "python",
   "nbconvert_exporter": "python",
   "pygments_lexer": "ipython3",
   "version": "3.9.2"
  }
 },
 "nbformat": 4,
 "nbformat_minor": 5
}