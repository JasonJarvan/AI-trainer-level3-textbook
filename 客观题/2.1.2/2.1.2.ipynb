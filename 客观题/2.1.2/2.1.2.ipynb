{
 "cells": [
  {
   "cell_type": "code",
   "id": "efb22380-7ffc-4761-904a-706d3a07e292",
   "metadata": {},
   "outputs": [],
   "source": "import pandas as pd\n#读取一个Excel文件，并将读取到的数据存储在变量data中\n# data = __________\ndata = pd.read_excel('大学生低碳生活行为的影响因素数据集.xlsx')\n#打印出数据集的前5行\nprint(data.head())\n\n#处理数据集中的缺失值\n# initial_row_count = __________   #处理前的数据行数\n# data = __________                #删除缺失值所在行\n# final_row_count = __________     #处理后的数据行数\ninitial_row_count = len(data)   #处理前的数据行数\ndata = data.dropna()                #删除缺失值所在行\nfinal_row_count = len(data)     #处理后的数据行数\nprint(f'处理后数据行数: {final_row_count}, 删除的行数: {initial_row_count - final_row_count}')\n\n#删除重复行\n# data = __________\ndata = data.drop_duplicates()\n\nfrom sklearn.preprocessing import StandardScaler\nnumerical_features = ['4.您的月生活费○≦1,000元   ○1,001-2,000元   ○2,001-3,000元   ○≧3,001元']\nscaler = StandardScaler()\n# data[numerical_features] = __________\ndata[numerical_features] = scaler.fit_transform(data[numerical_features])\n\n#选择特征\n# selected_features = [__________]\n# X = __________\nselected_features = ['1.您的性别○男性   ○女性', '2.您的年级○大一   ○大二   ○大三   ○大四', \n                    '3.您的生源地○农村   ○城镇（乡镇）   ○地县级城市   ○省会城市及直辖市',\n                    '4.您的月生活费○≦1,000元   ○1,001-2,000元   ○2,001-3,000元   ○≧3,001元',\n                    '5.您进行过绿色低碳的相关生活方式吗？',\n                    '6.您觉得\"低碳\"，与你的生活关系密切吗？',\n                    '7.低碳生活是否会成为未来的主流生活方式？',\n                    '8.您是否认为低碳生活会提高您的生活质量？']\nX = data[selected_features]\n\n# 创建目标变量\n# y = __________\ny = data['低碳行为积极性']\n\nfrom sklearn.model_selection import train_test_split\n# 数据划分（测试集取20%）\n# X_train, X_test, y_train, y_test = __________(__________, random_state=42)\nX_train, X_test, y_train, y_test = train_test_split(X, y, test_size=0.2, random_state=42)\n\n# 合并处理后得数据，并将其保存（保存中不用额外创建索引）\n# cleaned_data = __________(__________, axis=1)\n# __________('2.1.2_cleaned_data.csv', __________)\ncleaned_data = pd.concat([X, y], axis=1)\ncleaned_data.to_csv('2.1.2_cleaned_data.csv', index=False)"
  },
  {
   "cell_type": "code",
   "execution_count": null,
   "id": "da15f362-43f9-4210-a7d3-0776b4413551",
   "metadata": {},
   "outputs": [],
   "source": []
  }
 ],
 "metadata": {
  "kernelspec": {
   "display_name": "Python 3 (ipykernel)",
   "language": "python",
   "name": "python3"
  },
  "language_info": {
   "codemirror_mode": {
    "name": "ipython",
    "version": 3
   },
   "file_extension": ".py",
   "mimetype": "text/x-python",
   "name": "python",
   "nbconvert_exporter": "python",
   "pygments_lexer": "ipython3",
   "version": "3.9.2"
  }
 },
 "nbformat": 4,
 "nbformat_minor": 5
}