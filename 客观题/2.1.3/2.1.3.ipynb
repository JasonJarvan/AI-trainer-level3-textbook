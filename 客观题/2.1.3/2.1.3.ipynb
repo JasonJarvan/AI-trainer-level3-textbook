{
 "cells": [
  {
   "cell_type": "code",
   "id": "9c06c4c8-c8b3-40b4-81c7-eeedfc992d52",
   "metadata": {},
   "outputs": [],
   "source": "import pandas as pd\n\n# 加载数据\n# data = __________\ndata = pd.read_csv('finance数据集.csv')\n\n# 显示前五行的数据\n# __________\nprint(data.head())\n\nimport matplotlib.pyplot as plt\nimport seaborn as sns\n\n# 设置图像尺寸\nplt.figure(figsize=(12, 8))\n\n# 识别数值列用于箱线图\nnumeric_cols = data.select_dtypes(include=['float64', 'int64']).columns\n\n# 创建箱线图\nfor i, col in enumerate(numeric_cols, 1):\n    plt.subplot(3, 4, i)\n    sns.boxplot(x=data[col])\n    plt.title(col)\n\nplt.tight_layout()\nplt.show()\n\n# 使用IQR处理异常值\n# Q1 = __________(0.25)\n# Q3 = __________(0.75)\n# IQR = __________\nQ1 = data[numeric_cols].quantile(0.25)\nQ3 = data[numeric_cols].quantile(0.75)\nIQR = Q3 - Q1\n\n# 移除异常值\n# data_cleaned = data[~((data[numeric_cols] < (Q1 - 1.5 * __________)) | (data[numeric_cols] > (Q3 + 1.5 * __________))).any(axis=1)]\ndata_cleaned = data[~((data[numeric_cols] < (Q1 - 1.5 * IQR)) | (data[numeric_cols] > (Q3 + 1.5 * IQR))).any(axis=1)]\n\n# 检查处理重复值\n# duplicates = __________()\n# num_duplicates = duplicates.sum()\n# data_cleaned = data_cleaned[~duplicates]\nduplicates = data_cleaned.duplicated()\nnum_duplicates = duplicates.sum()\ndata_cleaned = data_cleaned[~duplicates]\n\nprint(f'删除的重复行数: {num_duplicates}')\n\n#对数据进行归一化处理\nfrom sklearn.preprocessing import MinMaxScaler\n\nscaler = MinMaxScaler()\n# data_cleaned[numeric_cols] = __________\ndata_cleaned[numeric_cols] = scaler.fit_transform(data_cleaned[numeric_cols])\n\n# 设定目标变量\n# target_variable = __________\ntarget_variable = 'SeriousDlqin2yrs'\n\nfrom sklearn.model_selection import train_test_split\n\n# 定义特征和目标\n# X = __________(columns=[__________])   #1分\n# y = __________                         #1分\nX = data_cleaned.drop(columns=[target_variable])   #1分\ny = data_cleaned[target_variable]                         #1分\n\n# 划分数据（训练集占80%）\n# X_train, X_test, y_train, y_test = __________(__________, random_state=42)\nX_train, X_test, y_train, y_test = train_test_split(X, y, test_size=0.2, random_state=42)\n\n# 显示划分后的数据形状\nprint(f'训练数据形状: {X_train.shape}')\nprint(f'测试数据形状: {X_test.shape}')\n\n# 保存清洗后的数据到CSV\ncleaned_file_path = '2.1.3_cleaned_data.csv'\n# __________(__________, index=False)\ndata_cleaned.to_csv(cleaned_file_path, index=False)"
  }
 ],
 "metadata": {
  "kernelspec": {
   "display_name": "Python 3 (ipykernel)",
   "language": "python",
   "name": "python3"
  },
  "language_info": {
   "codemirror_mode": {
    "name": "ipython",
    "version": 3
   },
   "file_extension": ".py",
   "mimetype": "text/x-python",
   "name": "python",
   "nbconvert_exporter": "python",
   "pygments_lexer": "ipython3",
   "version": "3.9.2"
  }
 },
 "nbformat": 4,
 "nbformat_minor": 5
}