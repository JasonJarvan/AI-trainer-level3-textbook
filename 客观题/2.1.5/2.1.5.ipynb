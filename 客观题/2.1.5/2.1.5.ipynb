{
 "cells": [
  {
   "cell_type": "code",
   "metadata": {},
   "outputs": [],
   "source": "import pandas as pd\n\n# 加载数据集\n# data = __________\ndata = pd.read_csv('健康咨询客户数据集.csv')\n\n# 查看表结构基本信息\n# print(__________)\nprint(data.info())\n\n# 显示每一列的空缺值数量\n# print(__________)\nprint(data.isnull().sum())\n\n# 删除含有缺失值的行\n# data_cleaned = __________\ndata_cleaned = data.dropna()\n\n# 转换 'Your age' 列的数据类型为整数类型，并处理异常值\n# data_cleaned.loc[:, 'Your age'] = __________(__________, errors='coerce')\n# data_cleaned = data_cleaned.dropna(subset=['Your age'])\n# data_cleaned = data_cleaned[data_cleaned['Your age'] >= 0]\n# data_cleaned.loc[:, 'Your age'] = data_cleaned['Your age'].__________\ndata_cleaned.loc[:, 'Your age'] = pd.to_numeric(data_cleaned['Your age'], errors='coerce')\ndata_cleaned = data_cleaned.dropna(subset=['Your age'])\ndata_cleaned = data_cleaned[data_cleaned['Your age'] >= 0]\ndata_cleaned.loc[:, 'Your age'] = data_cleaned['Your age'].astype(int)\n\nprint(data_cleaned['Your age'].dtype)\n\n# 检查和删除重复值\nduplicates_removed = data_cleaned.duplicated().sum()\n# data_cleaned = __________\ndata_cleaned = data_cleaned.drop_duplicates()\n\nprint(f\"Removed {duplicates_removed} duplicate rows\")\n\nfrom sklearn.preprocessing import LabelEncoder\n\n# 归一化 'How do you describe your current level of fitness ?' 列\nlabel_encoder = LabelEncoder()\n# data_cleaned[__________] = __________\ndata_cleaned['How do you describe your current level of fitness ?'] = label_encoder.fit_transform(data_cleaned['How do you describe your current level of fitness ?'])\n\nprint(data_cleaned['How do you describe your current level of fitness ?'].unique())\n\nfrom sklearn.preprocessing import LabelEncoder\nimport matplotlib.pyplot as plt\n\n# 去掉列名中的空格\ndata.columns = data.columns.str.strip()\n# 显示数据集的列名\nprint(data.columns)\n\n# 删除包含缺失值的行\ndata_cleaned = data.dropna(subset=['How often do you exercise?'])\n\n# 统计不同健身频率的分布情况\nexercise_frequency_counts = data_cleaned['How often do you exercise?'].value_counts()\n\n# 绘制饼图\nplt.figure(figsize=(10, 6))\n# __________(autopct='%1.1f%%', startangle=90, colors=plt.cm.Paired.colors)\nexercise_frequency_counts.plot(kind='pie', autopct='%1.1f%%', startangle=90, colors=plt.cm.Paired.colors)\nplt.title('Distribution of Exercise Frequency')\nplt.ylabel('')\nplt.show()\n\nimport pandas as pd\nfrom sklearn.model_selection import train_test_split\nimport matplotlib.pyplot as plt\n\n# 填充缺失值\ndata_filled = data.apply(lambda x: x.fillna(x.mode()[0]))\n\n# 划分数据（测试集占比20%）\n# train_data, test_data = __________(__________, random_state=42)\ntrain_data, test_data = train_test_split(data_filled, test_size=0.2, random_state=42)\n\n# 保存处理后的数据\n# cleaned_file_path = '__________'\n# __________(__________, index=False)\ncleaned_file_path = '2.1.5_cleaned_data.csv'\ndata_filled.to_csv(cleaned_file_path, index=False)"
  }
 ],
 "metadata": {
  "colab": {
   "provenance": []
  },
  "kernelspec": {
   "display_name": "Python 3 (ipykernel)",
   "language": "python",
   "name": "python3"
  },
  "language_info": {
   "codemirror_mode": {
    "name": "ipython",
    "version": 3
   },
   "file_extension": ".py",
   "mimetype": "text/x-python",
   "name": "python",
   "nbconvert_exporter": "python",
   "pygments_lexer": "ipython3",
   "version": "3.9.2"
  }
 },
 "nbformat": 4,
 "nbformat_minor": 4
}