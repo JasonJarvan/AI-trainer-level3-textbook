{
 "cells": [
  {
   "cell_type": "code",
   "execution_count": 2,
   "id": "6930096b-46ae-425a-87e5-593095f067b9",
   "metadata": {},
   "outputs": [],
   "source": [
    "import pandas as pd\n",
    "import numpy as np\n",
    "\n",
    "# 读取数据集 1分\n",
    "# data = _____________\n",
    "data = pd.read_csv('patient_data.csv') # 答案：使用pandas读取CSV文件"
   ]
  },
  {
   "cell_type": "code",
   "execution_count": 7,
   "id": "cd5a5986-772a-41e4-95d3-1ce2929a0f09",
   "metadata": {},
   "outputs": [
    {
     "name": "stdout",
     "output_type": "stream",
     "text": [
      "高风险患者数量: 413\n",
      "低风险患者数量: 587\n",
      "高风险患者占比: 0.413\n",
      "低风险患者占比: 0.587\n"
     ]
    }
   ],
   "source": [
    "# 1. 统计住院天数超过7天的患者数量及其占比\n",
    "# 创建新列'RiskLevel'，根据住院天数判断风险等级 3分\n",
    "# _____________ = _____________(_____________, '高风险患者', '低风险患者')\n",
    "data['RiskLevel'] = np.where(data['DaysInHospital'] > 7, '高风险患者', '低风险患者')\n",
    "# 统计不同风险等级的患者数量 2分\n",
    "# risk_counts = data_____________._____________\n",
    "risk_counts = data.groupby('RiskLevel').size() #两种都对, 这个更好\n",
    "risk_counts = data['RiskLevel'].value_counts()\n",
    "\n",
    "# 计算高风险患者占比 1分\n",
    "# high_risk_ratio = risk_counts['高风险患者'] / _____________\n",
    "high_risk_ratio = risk_counts['高风险患者'] / risk_counts.sum()\n",
    "high_risk_ratio = risk_counts['高风险患者'] / len(data) #两种都对, 这个更好\n",
    "# 计算低风险患者占比 1分\n",
    "# low_risk_ratio = risk_counts['低风险患者'] / _____________\n",
    "low_risk_ratio = risk_counts['低风险患者'] / risk_counts.sum()\n",
    "\n",
    "# 输出结果\n",
    "print(\"高风险患者数量:\", risk_counts['高风险患者'])\n",
    "print(\"低风险患者数量:\", risk_counts['低风险患者'])\n",
    "print(\"高风险患者占比:\", high_risk_ratio)\n",
    "print(\"低风险患者占比:\", low_risk_ratio)"
   ]
  },
  {
   "cell_type": "code",
   "execution_count": 6,
   "id": "32511bf1-2155-44b1-a0ac-252b711da6d2",
   "metadata": {},
   "outputs": [
    {
     "name": "stdout",
     "output_type": "stream",
     "text": [
      "BMI区间中高风险患者的比例和患者数:\n",
      "BMIRange\n",
      "偏瘦    0.444444\n",
      "正常    0.406699\n",
      "超重    0.388235\n",
      "肥胖    0.415094\n",
      "Name: RiskLevel, dtype: float64\n",
      "BMIRange\n",
      "偏瘦    144\n",
      "正常    209\n",
      "超重    170\n",
      "肥胖    477\n",
      "dtype: int64\n"
     ]
    },
    {
     "name": "stderr",
     "output_type": "stream",
     "text": [
      "C:\\Users\\Administrator\\AppData\\Local\\Temp\\ipykernel_9196\\4155188094.py:10: FutureWarning: The default of observed=False is deprecated and will be changed to True in a future version of pandas. Pass observed=False to retain current behavior or observed=True to adopt the future default and silence this warning.\n",
      "  bmi_risk_rate = data.groupby('BMIRange')['RiskLevel'].apply(lambda x: (x == '高风险患者').mean())\n",
      "C:\\Users\\Administrator\\AppData\\Local\\Temp\\ipykernel_9196\\4155188094.py:13: FutureWarning: The default of observed=False is deprecated and will be changed to True in a future version of pandas. Pass observed=False to retain current behavior or observed=True to adopt the future default and silence this warning.\n",
      "  bmi_patient_count = data.groupby('BMIRange').size()\n"
     ]
    }
   ],
   "source": [
    "# 2. 统计不同BMI区间中高风险患者的比例和统计不同BMI区间中的患者数\n",
    "# 定义BMI区间和标签\n",
    "bmi_bins = [0, 18.5, 24, 28, np.inf]\n",
    "bmi_labels = ['偏瘦', '正常', '超重', '肥胖']\n",
    "# 根据BMI值划分指定区间 4分\n",
    "# data['BMIRange'] = _____________(_____________, _____________, _____________, right=False)  # 使用左闭右开区间\n",
    "data['BMIRange'] = pd.cut(data['BMI'], bins=bmi_bins, labels=bmi_labels, right=False) #两种都对, 这个更好\n",
    "data['BMIRange'] = pd.cut(data['BMI'], bmi_bins, labels=bmi_labels, right=False)   \n",
    "# 计算每个BMI区间中高风险患者的比例 2分\n",
    "# bmi_risk_rate = _____________(_____________)['RiskLevel'].apply(lambda x: (x == '高风险患者').mean())\n",
    "bmi_risk_rate = data.groupby('BMIRange')['RiskLevel'].apply(lambda x: (x == '高风险患者').mean())\n",
    "# 统计每个BMI区间的患者数量 1分\n",
    "# bmi_patient_count = data_____________\n",
    "bmi_patient_count = data.groupby('BMIRange').size() #两种都对, 这个更好\n",
    "bmi_patient_count = data['BMIRange'].value_counts()\n",
    "\n",
    "# 输出结果\n",
    "print(\"BMI区间中高风险患者的比例和患者数:\")\n",
    "print(bmi_risk_rate) \n",
    "print(bmi_patient_count)"
   ]
  },
  {
   "cell_type": "code",
   "execution_count": null,
   "id": "efc6523c-0bc2-46c2-8810-b0ee604d6f0c",
   "metadata": {},
   "outputs": [],
   "source": [
    "# 3. 统计不同年龄区间中高风险患者的比例和统计不同年龄区间中的患者数\n",
    "# 定义年龄区间和标签\n",
    "age_bins = [0, 26, 36, 46, 56, 66, np.inf]\n",
    "age_labels = ['≤25岁', '26-35岁', '36-45岁', '46-55岁', '56-65岁', '＞65岁']\n",
    "# 根据年龄值划分指定区间 4分\n",
    "# data['AgeRange'] = _____________(_____________, _____________, _____________, right=False)  # 使用左闭右开区间\n",
    "data['AgeRange'] = pd.cut(data['Age'], bins=age_bins, labels=age_labels, right=False)\n",
    "# 计算每个年龄区间中高风险患者的比例 2分\n",
    "# age_risk_rate = _____________(_____________)['RiskLevel'].apply(lambda x: (x == '高风险患者').mean())\n",
    "age_risk_rate = data.groupby('AgeRange')['RiskLevel'].apply(lambda x: (x == '高风险患者').mean())\n",
    "# 统计每个年龄区间的患者数量 1分\n",
    "# age_patient_count = data_____________\n",
    "age_patient_count = data.groupby('AgeRange').size() #两种都对, 这个更好\n",
    "age_patient_count = data['AgeRange'].value_counts()\n",
    "\n",
    "# 输出结果\n",
    "print(\"年龄区间中高风险患者的比例和患者数:\")\n",
    "print(age_risk_rate) \n",
    "print(age_patient_count) "
   ]
  }
 ],
 "metadata": {
  "kernelspec": {
   "display_name": "base",
   "language": "python",
   "name": "python3"
  },
  "language_info": {
   "codemirror_mode": {
    "name": "ipython",
    "version": 3
   },
   "file_extension": ".py",
   "mimetype": "text/x-python",
   "name": "python",
   "nbconvert_exporter": "python",
   "pygments_lexer": "ipython3",
   "version": "3.12.7"
  }
 },
 "nbformat": 4,
 "nbformat_minor": 5
}
